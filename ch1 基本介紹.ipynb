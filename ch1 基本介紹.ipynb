{
 "cells": [
  {
   "cell_type": "markdown",
   "id": "e7debab1-6852-4793-b4cd-d429695d7515",
   "metadata": {
    "tags": []
   },
   "source": [
    "# ch1 基本介紹\n",
    "\n",
    "nyto是基於改良粒子群演算法的深度學習套件，要想使用nyto建立並訓練深度學習模型首先要介紹**節點**在nyto中使用方式。\n",
    "\n",
    "## 節點(node)\n",
    "\n",
    "在使用其他工具建立類神經網路時，我們首先需要建立一層又一層的神經網路層並將其組織起來，成為一個神經網路。這在nyto中就成了建立一個又一個的節點並將其組織起來，成為一個 **網路(net)** 。\n",
    "\n",
    "在nyto中，節點並不是單個神經原，而是nyto中組織網路的最小單位，節點可以是一個神經網路層，可以是一組訓練資料，甚至是另一個網路。在下面這張圖中展示了簡單的網路，並展示了網路與節點的關係:\n",
    "\n",
    "![ch1-1](https://imgur.com/KONLtpe.jpg)"
   ]
  },
  {
   "cell_type": "markdown",
   "id": "aaf003d5-6bb8-41e1-89cd-2b2f6b82a8ce",
   "metadata": {},
   "source": [
    "在上圖中使用了4個節點來建立一個網路，在這個網路中我們定義了這樣的關係:\n",
    "1. 當*節點1*被運行起來時，會將*節點x1*跟*節點x2*中保存的值相加。\n",
    "2. 當*節點y*被運行起來時，會去取得*節點1*運行的結果。\n",
    "\n",
    "簡單來說，當*節點y*被運行起來時會得到`1+2`的結果，也就是3。\n",
    "\n",
    "而在節點中存在進一步的分類，也就是上圖中藍色的 **單元節點(unit node)** 與綠色的 **普通節點(general node)** 。兩者的差別在於節點內有沒有保存任何的單元，單元可以是資料也可以是模型。如果保存的是資料則稱為資料節點，如果是模型則可以模型節點。下面是整理:\n",
    "\n",
    "**單元節點:**\n",
    "\n",
    "    節點中有保存單元的節點，單元可以是資料可以是模型。\n",
    "    \n",
    "**普通節點:**\n",
    "\n",
    "    單元節點以外的節點。\n",
    "    \n",
    "**資料節點:**\n",
    "    \n",
    "    節點內保存的是資料的單元節點，資料可以是特徵資料可以是標籤資料。\n",
    "    \n",
    "**模型節點:**\n",
    "\n",
    "    節點內保存的是模型的單元節點，模型可以是神經網路層，甚至可以是另一個網路。\n",
    "    \n",
    "    \n",
    "與單元節點不同，普通節點內是沒有保存任何資料的，只有當節點**運行**起來的時候，普通節點內才會有資料可以取得。"
   ]
  },
  {
   "cell_type": "markdown",
   "id": "89e70833-8642-4a71-8958-fc299e76b70f",
   "metadata": {},
   "source": [
    "## 建立網路\n",
    "\n",
    "下面我們就來建立上圖中的網路，首先先取得一個空的網路，和一個連接界面。連接界面可以用來建立節點和節點間的連接:"
   ]
  },
  {
   "cell_type": "code",
   "execution_count": 1,
   "id": "86048196-7aed-46ed-8182-b4d63849eec0",
   "metadata": {},
   "outputs": [],
   "source": [
    "from nyto import net_tool as to\n",
    "\n",
    "my_net, my_node = to.new_net()"
   ]
  },
  {
   "cell_type": "code",
   "execution_count": 2,
   "id": "2e80feae-a466-471b-9f75-954463c09e79",
   "metadata": {},
   "outputs": [
    {
     "data": {
      "text/plain": [
       "net(mod=set(), data=set())"
      ]
     },
     "execution_count": 2,
     "metadata": {},
     "output_type": "execute_result"
    }
   ],
   "source": [
    "my_net # 一個空的網路"
   ]
  },
  {
   "cell_type": "code",
   "execution_count": 3,
   "id": "d813d07e-a61e-44b7-ad84-d0c25472347b",
   "metadata": {},
   "outputs": [
    {
     "data": {
      "text/plain": [
       "<nyto.net.create_connecter.<locals>.node_connecter at 0x7fc0e43d48b0>"
      ]
     },
     "execution_count": 3,
     "metadata": {},
     "output_type": "execute_result"
    }
   ],
   "source": [
    "my_node # 連接界面"
   ]
  },
  {
   "cell_type": "markdown",
   "id": "cfb4e325-3b2b-44a8-8f5a-9390464b60da",
   "metadata": {},
   "source": [
    "導入單元節點x1和單元節點x2:"
   ]
  },
  {
   "cell_type": "code",
   "execution_count": 4,
   "id": "f96831d3-562e-43df-b865-1bba7c8192e4",
   "metadata": {},
   "outputs": [],
   "source": [
    "my_node.x1 = 1\n",
    "my_node.x2 = 2"
   ]
  },
  {
   "cell_type": "markdown",
   "id": "022aaf28-e8dc-47bb-896d-fa3a8fae31fa",
   "metadata": {},
   "source": [
    "連接剩下的節點:"
   ]
  },
  {
   "cell_type": "code",
   "execution_count": 5,
   "id": "fef521f8-b669-43d1-9b65-244b9d6f77d0",
   "metadata": {},
   "outputs": [],
   "source": [
    "my_node.y = my_node.x1 + my_node.x2"
   ]
  },
  {
   "cell_type": "markdown",
   "id": "f0db913a-2726-4e7d-a89f-4c84723b9943",
   "metadata": {},
   "source": [
    "到此我們就把網路建立好了，下面馬上來運行看看！"
   ]
  },
  {
   "cell_type": "markdown",
   "id": "8c79d389-c0c4-48fe-843c-79c8f8978d0a",
   "metadata": {},
   "source": [
    "## 運行節點\n",
    "\n",
    "首先導入相關工具`nyto.net_tool.get`:"
   ]
  },
  {
   "cell_type": "code",
   "execution_count": 6,
   "id": "3e20c769-abec-489e-b402-16ad25cc519e",
   "metadata": {},
   "outputs": [],
   "source": [
    "from nyto.net_tool import get"
   ]
  },
  {
   "cell_type": "markdown",
   "id": "bac6f493-3b3e-4a02-87a1-5d23d03b2409",
   "metadata": {},
   "source": [
    "在函數中放入想要取得的節點即可:"
   ]
  },
  {
   "cell_type": "code",
   "execution_count": 7,
   "id": "8007a74e-292e-4f70-9d17-5edee9920017",
   "metadata": {},
   "outputs": [
    {
     "data": {
      "text/plain": [
       "3"
      ]
     },
     "execution_count": 7,
     "metadata": {},
     "output_type": "execute_result"
    }
   ],
   "source": [
    "get(my_node.y)"
   ]
  },
  {
   "cell_type": "markdown",
   "id": "764ad3fb-9025-4c76-ac97-421fa556dd15",
   "metadata": {},
   "source": [
    "也可以一次運行多個節點:"
   ]
  },
  {
   "cell_type": "code",
   "execution_count": 8,
   "id": "9e3c5eb4-91e4-4077-99f8-a6612f3c5e40",
   "metadata": {},
   "outputs": [
    {
     "data": {
      "text/plain": [
       "(1, 2)"
      ]
     },
     "execution_count": 8,
     "metadata": {},
     "output_type": "execute_result"
    }
   ],
   "source": [
    "get(my_node.x1, my_node.x2)"
   ]
  },
  {
   "cell_type": "markdown",
   "id": "d3c58994-67bb-4f1d-9033-527cfb18607b",
   "metadata": {},
   "source": [
    "而當單元節點中保存的數值被改變時，輸出的結果也會改變:"
   ]
  },
  {
   "cell_type": "code",
   "execution_count": 9,
   "id": "1c05c593-b950-4557-885d-51965ceaf07c",
   "metadata": {},
   "outputs": [
    {
     "data": {
      "text/plain": [
       "12"
      ]
     },
     "execution_count": 9,
     "metadata": {},
     "output_type": "execute_result"
    }
   ],
   "source": [
    "my_node.x1 = 10\n",
    "get(my_node.y)"
   ]
  },
  {
   "cell_type": "markdown",
   "id": "e158055b-c5bd-4457-b2bb-79fe8f6d7430",
   "metadata": {},
   "source": [
    "## 回顧\n",
    "\n",
    "在這章中我們介紹了如何建立一個簡單的網路並運行節點，以及節點的種類，我們將在下一章中介紹如何建立一個類神經網路並優化它。\n",
    "\n",
    "***\n",
    "*END*"
   ]
  }
 ],
 "metadata": {
  "kernelspec": {
   "display_name": "Python 3 (ipykernel)",
   "language": "python",
   "name": "python3"
  },
  "language_info": {
   "codemirror_mode": {
    "name": "ipython",
    "version": 3
   },
   "file_extension": ".py",
   "mimetype": "text/x-python",
   "name": "python",
   "nbconvert_exporter": "python",
   "pygments_lexer": "ipython3",
   "version": "3.9.12"
  }
 },
 "nbformat": 4,
 "nbformat_minor": 5
}
