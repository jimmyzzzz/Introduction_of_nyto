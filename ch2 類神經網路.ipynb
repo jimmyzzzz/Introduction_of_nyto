{
 "cells": [
  {
   "cell_type": "markdown",
   "id": "0f422fe0-a350-4d04-afa9-ebd5405f1326",
   "metadata": {},
   "source": [
    "# ch2 類神經網路\n",
    "\n",
    "在上一章中我們建立一個簡單的網路並運行節點，在這一章中我們將建立一個類神經網路並優化網路。\n",
    "\n",
    "## 網路架構\n",
    "\n",
    "我們打算建立一個兩層的類神經網路並使用著名的鳶尾花資料集訓練。"
   ]
  },
  {
   "cell_type": "code",
   "execution_count": 1,
   "id": "986f6a7e-b3fa-4b71-9f71-d9d572098e00",
   "metadata": {},
   "outputs": [],
   "source": [
    "from sklearn import datasets\n",
    "import numpy as np\n",
    "\n",
    "iris=datasets.load_iris()     # 載入資料\n",
    "feature=iris.data             # 輸入的特徵資料\n",
    "label=np.eye(3)[iris.target]  # 預測的類別資料"
   ]
  },
  {
   "cell_type": "markdown",
   "id": "61732d4c-97c6-4d24-8086-a0c7c5638ed7",
   "metadata": {},
   "source": [
    "下面是我們的網路設計圖。\n",
    "\n",
    "![ch2-1](https://imgur.com/Y9dRbfz.png)\n",
    "\n",
    "如上圖所示，我們將建立一個兩層的神經網路。\n",
    "\n",
    "在資料方面，輸入網路的資料保存到資料節點*data_x*中，並在輸入神經網路前做標準化預處理。\n",
    "\n",
    "而在神經網路方面，在第一層使用tanh作為activation function，第二層使用softmax作為activation function，然後將結果保存到名稱為pre的節點。最後再將*節點pre*的值與*節點data_y*中保存的標籤資料去計算cross-entropy並將結果保存到*節點loss*中。\n",
    "\n",
    "我們將依據下面的步驟建立網路:\n",
    "1. 導入單元\n",
    "2. 建立節點連結"
   ]
  },
  {
   "cell_type": "markdown",
   "id": "04fa8524-a22a-4d52-9be9-64d50f146ade",
   "metadata": {},
   "source": [
    "### 導入單元\n",
    "\n",
    "在前一章我們使用了一種建立網路後再導入單元的方法，但其實我們可以在網路產生時就先往裡面導入一些單元。"
   ]
  },
  {
   "cell_type": "code",
   "execution_count": 2,
   "id": "061ba58c-5166-457c-a8f7-9b6bb906c5f5",
   "metadata": {},
   "outputs": [],
   "source": [
    "from nyto import net_tool as to\n",
    "from nyto import layer\n",
    "\n",
    "# 導入方式一: 在new_net方法中可以直接導入單元\n",
    "(nn, node)=to.new_net(                  \n",
    "    # 使用add_data導入資料節點\n",
    "    data_x=to.add_data(feature),  # 加入資料節點: data_x\n",
    "    data_y=to.add_data(label),    # 加入資料節點: data_y\n",
    "    \n",
    "    # 不使用任何導入方式則預設導入的是模型節點\n",
    "    layer1=layer.new_nn_layer((4,12)),  # 加入模型節點: layer1(單層神經網路)\n",
    "    layer2=layer.new_nn_layer((12,3))   # 加入模型節點: layer2(單層神經網路)\n",
    ")"
   ]
  },
  {
   "cell_type": "markdown",
   "id": "00b0d16c-85c4-406b-ab61-6c78b9bf794e",
   "metadata": {},
   "source": [
    "也可以在網路產生後才往裡面導入單元:"
   ]
  },
  {
   "cell_type": "code",
   "execution_count": 3,
   "id": "07175d3e-5458-436d-b415-41ec0f9e621b",
   "metadata": {},
   "outputs": [],
   "source": [
    "# 導入方式二: 在網路產生後才往裡面導入單元\n",
    "(nn, node)=to.new_net()\n",
    "\n",
    "node.data_x=to.add_data(feature)\n",
    "node.data_y=to.add_data(label)\n",
    "node.layer1=layer.new_nn_layer((4,12))\n",
    "node.layer2=layer.new_nn_layer((12,3))"
   ]
  },
  {
   "cell_type": "markdown",
   "id": "48919cc8-15f2-4527-8173-c28ab5d11d52",
   "metadata": {},
   "source": [
    "如果導入的資料不需要優化，比如訓練資料或函數之類的。建議使用`net_tool.add_data`導入到資料節點中。可以幫助模型訓練時提升速度和節省記憶體。"
   ]
  },
  {
   "cell_type": "markdown",
   "id": "5c0f1b0d-7249-4d84-8729-1bd0949e13a3",
   "metadata": {},
   "source": [
    "### 建立節點連結\n",
    "\n",
    "導入單元後就可以將剛剛建立的單元節點連結起來組織成網路，這是通常的步驟。但是有些內建的函數可以允許使用者在建立連接時自動導入函數，而不需要事前導入。下面是使用自動導入的例子:"
   ]
  },
  {
   "cell_type": "code",
   "execution_count": 4,
   "id": "dda40aa5-ee34-491c-9b41-91c046ef62df",
   "metadata": {},
   "outputs": [
    {
     "data": {
      "text/plain": [
       "<nyto.net.node_interface at 0x7fcf98febc10>"
      ]
     },
     "execution_count": 4,
     "metadata": {},
     "output_type": "execute_result"
    }
   ],
   "source": [
    "from nyto import unit_function as uf\n",
    "\n",
    "node.data_x >> uf.col_nor() >> node.output"
   ]
  },
  {
   "cell_type": "markdown",
   "id": "1fd01627-3d08-4586-8a6b-46a435d1272f",
   "metadata": {},
   "source": [
    "當使用者使用`uf.col_nor()`在建立連結時，會自動將`_col_nor`函數導入到網路中，然後將新產生的函數的節點用來建立當前連結。\n",
    "\n",
    "簡而言之，當使用者執行下列腳本時:\n",
    "    \n",
    "    node.data_x >> uf.col_nor() >> node.output\n",
    "    \n",
    "其實等於是做了這件事:\n",
    "\n",
    "    node._col_nor = net_tool.add_data(uf._col_nor)\n",
    "    node.data_x >> node._col_nor >> node.output\n",
    "    \n",
    "至於`>>`符號的作用等價於`()`呼叫，你完全可以將上面的腳本改寫成:\n",
    "\n",
    "    node._col_nor = net_tool.add_data(uf._col_nor)\n",
    "    node.output = node._col_nor(node.data_x)\n",
    "\n",
    "其中`data_x`和`_col_nor`是資料節點，而`output`是普通節點。"
   ]
  },
  {
   "cell_type": "markdown",
   "id": "ebdea1b8-5bd9-44f4-9965-51e99aa2899e",
   "metadata": {},
   "source": [
    "### 完整代碼\n",
    "\n",
    "下是建立我們目標網路的完整過程:"
   ]
  },
  {
   "cell_type": "code",
   "execution_count": 5,
   "id": "6d4bcc15-1269-43b9-b1b4-5c5d5c189e36",
   "metadata": {},
   "outputs": [],
   "source": [
    "from nyto import net_tool as to\n",
    "from nyto import layer\n",
    "from nyto import unit_function as uf\n",
    "\n",
    "# 導入單元\n",
    "(nn, node) = to.new_net(                  \n",
    "    data_x = to.add_data(feature),  # 加入資料節點: data_x\n",
    "    data_y = to.add_data(label),    # 加入資料節點: data_y\n",
    "    \n",
    "    layer1 = layer.new_nn_layer((4,12)),  # 加入模型節點: layer1(單層神經網路)\n",
    "    layer2 = layer.new_nn_layer((12,3))   # 加入模型節點: layer2(單層神經網路)\n",
    ")\n",
    "\n",
    "# 建立節點連結\n",
    "node.layer1_output = node.data_x >> uf.col_nor() >> node.layer1 >> uf.tanh()\n",
    "node.layer2_output = node.layer1_output >> node.layer2 >> uf.softmax()\n",
    "node.pre = node.layer2_output\n",
    "node.loss = uf.cross_entropy(node.pre, node.data_y)"
   ]
  },
  {
   "cell_type": "markdown",
   "id": "5876b988-8d35-4985-ba5d-f410ee76a739",
   "metadata": {},
   "source": [
    "建立成功後我們試試看運行計算loss值的*loss節點*和計算預測值的*pre節點*:"
   ]
  },
  {
   "cell_type": "code",
   "execution_count": 6,
   "id": "c50c7c94-89a0-48ff-8d4c-df0bb4224b21",
   "metadata": {},
   "outputs": [],
   "source": [
    "loss, pre = to.get(node.loss, node.pre)"
   ]
  },
  {
   "cell_type": "code",
   "execution_count": 7,
   "id": "18f3c60c-3d2d-4d79-b6c0-a473f86b4eb0",
   "metadata": {},
   "outputs": [
    {
     "data": {
      "text/plain": [
       "1.0986122886681096"
      ]
     },
     "execution_count": 7,
     "metadata": {},
     "output_type": "execute_result"
    }
   ],
   "source": [
    "loss # 訓練前的loss值"
   ]
  },
  {
   "cell_type": "markdown",
   "id": "25da6376-3641-41c3-93aa-400c2ceb9b27",
   "metadata": {},
   "source": [
    "## 訓練網路\n",
    "\n",
    "下面我們就來訓練網路，訓練網路可以使得loss值變得更小。\n",
    "與基於梯度下降訓練的方式不同，nyto中訓練網路基於下面幾個步驟來進行:\n",
    "1. 建立池\n",
    "2. 訓練池\n",
    "3. 查看池\n",
    "\n",
    "## 建立池\n",
    "\n",
    "池可以想像為有許多網路的一個集合，我們需要提供三個參數來生成池。分別是:\n",
    "1. 網路節點(node_if): 需要優化的節點，優化的目的是讓該節點的輸出值最小化。\n",
    "2. 池大小(pool_size): 越大的池可以得到越穩定的訓練過程，但是需要的運算量也越大。最小為1。\n",
    "3. 隨機程度(random_size=1): 該值越大，則初始化時池內的網路參數隨機程度越大。該值大於等於0。\n",
    "\n",
    "下面我們來建立一個用於優化*loss節點*的池:"
   ]
  },
  {
   "cell_type": "code",
   "execution_count": 8,
   "id": "53331531-a50b-4b9b-89bb-4d0f42b9aad9",
   "metadata": {},
   "outputs": [],
   "source": [
    "from nyto import train_tool as train\n",
    "\n",
    "pool = train.new_pool(node.loss, pool_size=10)"
   ]
  },
  {
   "cell_type": "markdown",
   "id": "0c6ee85a-ca57-4f61-ba79-72f118044d5b",
   "metadata": {},
   "source": [
    "## 訓練池\n",
    "\n",
    "使用`epso_opt`優化器，可以對池進行1次的優化，使用迴圈多次呼叫則可以多次優化。優化完成後會返回一個新的池。"
   ]
  },
  {
   "cell_type": "code",
   "execution_count": 9,
   "id": "7c31d927-cf72-41d4-baad-7f83dc23e740",
   "metadata": {},
   "outputs": [],
   "source": [
    "# 建立優化器\n",
    "optimizer=train.epso_opt()\n",
    "\n",
    "# 進行10次優化\n",
    "for t in range(10):\n",
    "    pool = optimizer(pool)"
   ]
  },
  {
   "cell_type": "markdown",
   "id": "76809b7d-6bb5-44ad-a233-5d7dd7551921",
   "metadata": {},
   "source": [
    "## 查看池\n",
    "\n",
    "通過查看池來取得訓練的結果。使用`net`方法取得訓練好的網路，使用`loss`方法取得節點的輸出值。\n",
    "\n",
    "查看時，使用`[]`來查看，輸入的數字為對應的排名。比如想查看節點的輸出值最小的網路則呼叫:"
   ]
  },
  {
   "cell_type": "code",
   "execution_count": 10,
   "id": "d6219061-bd02-4966-8a93-a47408082810",
   "metadata": {},
   "outputs": [
    {
     "data": {
      "text/plain": [
       "net(mod={'layer1', 'layer2'}, data={'data_y', 'data_x'})"
      ]
     },
     "execution_count": 10,
     "metadata": {},
     "output_type": "execute_result"
    }
   ],
   "source": [
    "pool.net[0]"
   ]
  },
  {
   "cell_type": "markdown",
   "id": "18260b94-ecee-440e-b61a-c0215ece2875",
   "metadata": {},
   "source": [
    "而想查看該網路的輸出值則呼叫:"
   ]
  },
  {
   "cell_type": "code",
   "execution_count": 11,
   "id": "99a6b754-6cc7-4d2d-8d4d-dc901c2944e3",
   "metadata": {},
   "outputs": [
    {
     "data": {
      "text/plain": [
       "0.5419818660475417"
      ]
     },
     "execution_count": 11,
     "metadata": {},
     "output_type": "execute_result"
    }
   ],
   "source": [
    "pool.loss[0]"
   ]
  },
  {
   "cell_type": "markdown",
   "id": "87ba1bdf-bd7e-4d90-8b9f-c495fc3b38d3",
   "metadata": {},
   "source": [
    "同理，想查看第二小的輸出值則呼叫:"
   ]
  },
  {
   "cell_type": "code",
   "execution_count": 12,
   "id": "9d78f759-431e-4f7f-824a-10d7a5333dc1",
   "metadata": {},
   "outputs": [
    {
     "data": {
      "text/plain": [
       "0.6318364036630774"
      ]
     },
     "execution_count": 12,
     "metadata": {},
     "output_type": "execute_result"
    }
   ],
   "source": [
    "pool.loss[1]"
   ]
  },
  {
   "cell_type": "markdown",
   "id": "4f82d581-d7aa-4b5c-8c20-f25c6c79d5dd",
   "metadata": {},
   "source": [
    "## 使用訓練好的網路\n",
    "\n",
    "當網路訓練好後我們需要將該網路從池中取出並用來預測資料可以這麼做:"
   ]
  },
  {
   "cell_type": "code",
   "execution_count": 13,
   "id": "a6fc24f5-d346-4308-b8e5-dc0c274045a6",
   "metadata": {},
   "outputs": [],
   "source": [
    "best_nn = pool.net[0] # 取得loss最小的網路"
   ]
  },
  {
   "cell_type": "markdown",
   "id": "42716d51-1160-4607-8e3d-32be19cdd0d0",
   "metadata": {},
   "source": [
    "接下來我們需要通過網路取得節點，然後我們就能取得該網路的預測值了:"
   ]
  },
  {
   "cell_type": "code",
   "execution_count": 14,
   "id": "0d7b3492-fc1e-457e-965f-37a8edbec929",
   "metadata": {},
   "outputs": [
    {
     "data": {
      "text/plain": [
       "array([[0.87720898, 0.05588952, 0.0669015 ],\n",
       "       [0.7742843 , 0.10659901, 0.11911669],\n",
       "       [0.8323601 , 0.08256885, 0.08507105],\n",
       "       [0.82487579, 0.10501134, 0.07011287],\n",
       "       [0.89265836, 0.05284318, 0.05449846]])"
      ]
     },
     "execution_count": 14,
     "metadata": {},
     "output_type": "execute_result"
    }
   ],
   "source": [
    "# 取得網路的節點\n",
    "best_nn_node = to.create_connecter(best_nn)\n",
    "\n",
    "# 計算該網路的pre節點輸出的前5筆資料\n",
    "pre_np = to.get(best_nn_node.pre)\n",
    "pre_np[:5]"
   ]
  },
  {
   "cell_type": "markdown",
   "id": "e112d4bd-b3a0-4bbd-a5b4-0b01675eafe5",
   "metadata": {},
   "source": [
    "## 完整代碼"
   ]
  },
  {
   "cell_type": "code",
   "execution_count": 15,
   "id": "6027bf48-81b4-4beb-a3bf-582abdd9a239",
   "metadata": {},
   "outputs": [],
   "source": [
    "from nyto import net_tool as to\n",
    "from nyto import layer\n",
    "from nyto import unit_function as uf\n",
    "from nyto import train_tool as train\n",
    "\n",
    "from sklearn import datasets\n",
    "import numpy as np\n",
    "\n",
    "# 取得訓練資料\n",
    "iris=datasets.load_iris()     # 載入資料\n",
    "feature=iris.data             # 輸入的特徵資料\n",
    "label=np.eye(3)[iris.target]  # 預測的類別資料\n",
    "\n",
    "# 導入單元\n",
    "(nn, node) = to.new_net(                  \n",
    "    data_x = to.add_data(feature),  # 加入資料節點: data_x\n",
    "    data_y = to.add_data(label),    # 加入資料節點: data_y\n",
    "    \n",
    "    layer1 = layer.new_nn_layer((4,12)),  # 加入模型節點: layer1(單層神經網路)\n",
    "    layer2 = layer.new_nn_layer((12,3))   # 加入模型節點: layer2(單層神經網路)\n",
    ")\n",
    "\n",
    "# 建立節點連結\n",
    "node.layer1_output = node.data_x >> uf.col_nor() >> node.layer1 >> uf.tanh()\n",
    "node.layer2_output = node.layer1_output >> node.layer2 >> uf.softmax()\n",
    "node.pre = node.layer2_output\n",
    "node.loss = uf.cross_entropy(node.pre, node.data_y)\n",
    "\n",
    "# 建立池\n",
    "pool = train.new_pool(node.loss, pool_size=10)\n",
    "\n",
    "# 訓練池\n",
    "optimizer=train.epso_opt()\n",
    "for t in range(10):\n",
    "    pool = optimizer(pool)\n",
    "    \n",
    "# 取得訓練好的網路和該網路的節點\n",
    "best_nn = pool.net[0]\n",
    "best_nn_node = to.create_connecter(best_nn)"
   ]
  },
  {
   "cell_type": "markdown",
   "id": "8145d9dd-2398-44dc-8bac-dc3cf3bd1148",
   "metadata": {},
   "source": [
    "到這裡基本上已經介紹完如何構建一個類神經網路並訓練了，當在使用nyto面對不同類型的問題時，只需要修改模型或是連接方式的部份就可以處理大部分的狀況了。但是如果想要使網路能更有效率的運作，或是需要更靈活的架構，甚至是了解到更細節的參數調整。\n",
    "\n",
    "那麼可以查閱後面章節的進階技巧。\n",
    "\n",
    "***\n",
    "*END*"
   ]
  }
 ],
 "metadata": {
  "kernelspec": {
   "display_name": "Python 3 (ipykernel)",
   "language": "python",
   "name": "python3"
  },
  "language_info": {
   "codemirror_mode": {
    "name": "ipython",
    "version": 3
   },
   "file_extension": ".py",
   "mimetype": "text/x-python",
   "name": "python",
   "nbconvert_exporter": "python",
   "pygments_lexer": "ipython3",
   "version": "3.7.13"
  }
 },
 "nbformat": 4,
 "nbformat_minor": 5
}
