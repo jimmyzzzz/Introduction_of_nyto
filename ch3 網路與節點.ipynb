{
 "cells": [
  {
   "cell_type": "markdown",
   "id": "f111bd06-f683-4bd5-aace-dbe582704390",
   "metadata": {},
   "source": [
    "# ch3 網路與節點\n",
    "\n",
    "前面兩章我們簡單介紹了如何使用nyto建立一個網路，但在這章中，我們將詳細介紹連結節點與建立網路這件事。你將瞭解到有那些技巧可以幫助你更快更好的建立網路。\n",
    "\n"
   ]
  },
  {
   "cell_type": "code",
   "execution_count": 1,
   "id": "3e512ad6-72ee-4161-b521-5d46c40fc853",
   "metadata": {},
   "outputs": [],
   "source": [
    "from nyto import net_tool as to"
   ]
  },
  {
   "cell_type": "markdown",
   "id": "391b97ea-c696-47d4-8390-cedf3e0e9666",
   "metadata": {},
   "source": [
    "## 節點技巧\n",
    "\n",
    "節點是構成網路的一部份，為了使我們能組織出我們需要的網路結構，我們需要學習一些更進階的技巧。\n",
    "\n",
    "我們會在該小節中介紹:\n",
    "1. 節點連接界面與節點界面\n",
    "2. 節點界面間的連接方法\n",
    "3. 啟動器節點\n",
    "4. 排序器節點"
   ]
  },
  {
   "cell_type": "markdown",
   "id": "703a3039-8bd7-420c-86e3-dcd244d9fc84",
   "metadata": {},
   "source": [
    "### 節點連接界面與節點界面\n",
    "\n",
    "在前面的章節中我們已經使用過節點連接界面來建立網路了，下面我們來看看有哪些方式來取得節點連接界面。\n",
    "\n",
    "**方法一：**下面是一般取得節點連接界面的方式，也就是在生成網路時會給你一個網路參考跟節點連接界面:"
   ]
  },
  {
   "cell_type": "code",
   "execution_count": 2,
   "id": "0023e062-394c-43ab-9f85-bbaa46f2553a",
   "metadata": {},
   "outputs": [
    {
     "data": {
      "text/plain": [
       "<nyto.net.create_connecter.<locals>.node_connecter at 0x7f43e45e36d0>"
      ]
     },
     "execution_count": 2,
     "metadata": {},
     "output_type": "execute_result"
    }
   ],
   "source": [
    "nn, node = to.new_net()\n",
    "nn   # 網路參考\n",
    "node # 節點連接界面"
   ]
  },
  {
   "cell_type": "markdown",
   "id": "8700b083-21b4-4077-bf5e-a9d160af39df",
   "metadata": {},
   "source": [
    "**方法二：**使用網路本身取得節點連接界面"
   ]
  },
  {
   "cell_type": "code",
   "execution_count": 3,
   "id": "23d90994-9070-4330-a7d6-a982667722b1",
   "metadata": {},
   "outputs": [
    {
     "data": {
      "text/plain": [
       "<nyto.net.create_connecter.<locals>.node_connecter at 0x7f43e45e3340>"
      ]
     },
     "execution_count": 3,
     "metadata": {},
     "output_type": "execute_result"
    }
   ],
   "source": [
    "node = to.create_connecter(nn)\n",
    "node # 節點連接界面"
   ]
  },
  {
   "cell_type": "markdown",
   "id": "7061abe7-85cf-4a31-8f7a-17611bd9d4bf",
   "metadata": {},
   "source": [
    "而當節點連接界面被指定節點名稱時就會變成節點界面:"
   ]
  },
  {
   "cell_type": "code",
   "execution_count": 4,
   "id": "2c5fa8de-ad87-413b-90fe-9bb92783a4bb",
   "metadata": {},
   "outputs": [
    {
     "data": {
      "text/plain": [
       "<nyto.net.node_interface at 0x7f43e45e3400>"
      ]
     },
     "execution_count": 4,
     "metadata": {},
     "output_type": "execute_result"
    }
   ],
   "source": [
    "node.a # 節點界面"
   ]
  },
  {
   "cell_type": "markdown",
   "id": "d30af3da-27e8-48e9-adba-c3a9ba70ebc3",
   "metadata": {},
   "source": [
    "還可以通過節點界面獲得節點名稱與網路參考"
   ]
  },
  {
   "cell_type": "code",
   "execution_count": 5,
   "id": "ae22e9dd-11aa-40fd-8db4-58f15360110b",
   "metadata": {},
   "outputs": [
    {
     "data": {
      "text/plain": [
       "'a'"
      ]
     },
     "execution_count": 5,
     "metadata": {},
     "output_type": "execute_result"
    }
   ],
   "source": [
    "node.a.node_id # 節點名稱"
   ]
  },
  {
   "cell_type": "code",
   "execution_count": 6,
   "id": "3cfc4717-8acb-4804-b236-43a9724d670b",
   "metadata": {},
   "outputs": [
    {
     "data": {
      "text/plain": [
       "net(mod=set(), data=set())"
      ]
     },
     "execution_count": 6,
     "metadata": {},
     "output_type": "execute_result"
    }
   ],
   "source": [
    "node.a.net_ref # 網路參考"
   ]
  },
  {
   "cell_type": "markdown",
   "id": "088254c5-aec6-4617-a34a-17623594f84c",
   "metadata": {},
   "source": [
    "### 節點界面間的連接方法\n",
    "\n",
    "除了可以是用數學上的加減乘除之外，也可以導入模型後使用模型的方法或使用函數的呼叫。\n",
    "\n",
    "**方法一：**數學上的基本運算"
   ]
  },
  {
   "cell_type": "code",
   "execution_count": 7,
   "id": "7718073b-a7a5-42c9-9ba4-bd4d35ef9ed6",
   "metadata": {},
   "outputs": [
    {
     "data": {
      "text/plain": [
       "(3, -1, 2, 0.5)"
      ]
     },
     "execution_count": 7,
     "metadata": {},
     "output_type": "execute_result"
    }
   ],
   "source": [
    "nn, node = to.new_net(a=1, b=2)\n",
    "\n",
    "node.a_add_b = node.a + node.b\n",
    "node.a_sub_b = node.a - node.b\n",
    "node.a_mul_b = node.a * node.b\n",
    "node.a_truediv_b = node.a / node.b\n",
    "\n",
    "to.get(node.a_add_b, node.a_sub_b, node.a_mul_b, node.a_truediv_b)"
   ]
  },
  {
   "cell_type": "markdown",
   "id": "7b5db256-f54c-42b9-b35f-1e131bc7f853",
   "metadata": {},
   "source": [
    "**方法二：**導入函數或類"
   ]
  },
  {
   "cell_type": "code",
   "execution_count": 8,
   "id": "eddf6933-5a39-49aa-93da-d709a257ce76",
   "metadata": {},
   "outputs": [
    {
     "data": {
      "text/plain": [
       "2"
      ]
     },
     "execution_count": 8,
     "metadata": {},
     "output_type": "execute_result"
    }
   ],
   "source": [
    "node.func = lambda x: x+1\n",
    "node.func_return = node.func(node.a)\n",
    "\n",
    "to.get(node.func_return)"
   ]
  },
  {
   "cell_type": "code",
   "execution_count": 9,
   "id": "14b71386-6425-4732-80b1-ebb8b0133a7c",
   "metadata": {},
   "outputs": [
    {
     "data": {
      "text/plain": [
       "11"
      ]
     },
     "execution_count": 9,
     "metadata": {},
     "output_type": "execute_result"
    }
   ],
   "source": [
    "class add_something:\n",
    "    def __init__(self, something):\n",
    "        self.something=something\n",
    "    def add(self, x):\n",
    "        return x+self.something\n",
    "    \n",
    "node.obj = add_something(10)\n",
    "node.obj_return = node.obj.add(node.a)\n",
    "\n",
    "to.get(node.obj_return)"
   ]
  },
  {
   "cell_type": "markdown",
   "id": "52f16bfd-37c1-46f2-a7d2-8c89378e49e9",
   "metadata": {},
   "source": [
    "**方法三：**取得相關屬性值"
   ]
  },
  {
   "cell_type": "code",
   "execution_count": 10,
   "id": "335eef1b-ff7f-4af5-901f-012f5caa9eed",
   "metadata": {},
   "outputs": [
    {
     "data": {
      "text/plain": [
       "(123, 456)"
      ]
     },
     "execution_count": 10,
     "metadata": {},
     "output_type": "execute_result"
    }
   ],
   "source": [
    "node.data_dict = to.add_data({'a':123, 'b':456, 'c':789})\n",
    "\n",
    "# 取得方式1\n",
    "node.get_a_1 = node.data_dict['a']\n",
    "\n",
    "# 取得方式2\n",
    "node.key = to.add_data('b')\n",
    "node.get_a_2 = node.data_dict[node.key]\n",
    "\n",
    "to.get(node.get_a_1, node.get_a_2)"
   ]
  },
  {
   "cell_type": "code",
   "execution_count": 11,
   "id": "48858a71-39e0-456a-9548-5cf31606fd5e",
   "metadata": {},
   "outputs": [
    {
     "data": {
      "text/plain": [
       "123"
      ]
     },
     "execution_count": 11,
     "metadata": {},
     "output_type": "execute_result"
    }
   ],
   "source": [
    "class data_class:\n",
    "    def __init__(self):\n",
    "        self.a = 123\n",
    "        self.b = 456\n",
    "        self.c = 789\n",
    "        \n",
    "node.data_obj = to.add_data(data_class())\n",
    "node.get_obj_a = node.data_obj.a()\n",
    "\n",
    "to.get(node.get_obj_a)"
   ]
  },
  {
   "cell_type": "markdown",
   "id": "4586d02a-1b29-4226-a4bc-159ea0c77211",
   "metadata": {},
   "source": [
    "### 啟動器節點\n",
    "\n",
    "有時候我們建立好一個網路，我們不需要改變它的結構，但是我們需要改變模型的輸入。\n",
    "\n",
    "例如我們首先要計算:\n",
    "\n",
    "    c = a + b , a=1, b=2\n",
    "\n",
    "然後我們要計算:\n",
    "\n",
    "    c = a + b , a=3, b=4\n",
    "\n",
    "這時候我們可能會這樣做:"
   ]
  },
  {
   "cell_type": "code",
   "execution_count": 12,
   "id": "369a88b7-c75e-4503-bf3c-a0fa132ecbb1",
   "metadata": {},
   "outputs": [
    {
     "name": "stdout",
     "output_type": "stream",
     "text": [
      "3\n",
      "7\n"
     ]
    }
   ],
   "source": [
    "nn, node = to.new_net(a=1, b=2)\n",
    "\n",
    "node.c = node.a + node.b\n",
    "print(to.get(node.c))\n",
    "\n",
    "(node.a, node.b)=(3, 4)\n",
    "print(to.get(node.c))"
   ]
  },
  {
   "cell_type": "markdown",
   "id": "2010aca4-c55d-4d4c-a9b6-6b2ef8758654",
   "metadata": {},
   "source": [
    "這在普通情況下就是多加幾行代碼的問題，但是如果需要常常切換資料的話，這將會變得非常麻煩。\n",
    "\n",
    "這在訓練神經網路時很常發生:\n",
    "* 我們在訓練時，網路需要輸入訓練資料。\n",
    "* 我們在測試時，網路需要輸入測試資料。\n",
    "\n",
    "有沒有辦法指定說我標記當我需要訓練時自動使用訓練資料，當我需要測試時自動使用測試資料？\n",
    "\n",
    "我們這時候就需要使用啟動器:"
   ]
  },
  {
   "cell_type": "code",
   "execution_count": 13,
   "id": "90381d0b-64fb-4e56-b8fb-d6afb1c110a7",
   "metadata": {},
   "outputs": [
    {
     "name": "stdout",
     "output_type": "stream",
     "text": [
      "case1_c={'c': 3}\n",
      "case2_c={'c': 7}\n"
     ]
    }
   ],
   "source": [
    "nn, node = to.new_net(\n",
    "    case1_a=1, case1_b=2,\n",
    "    case2_a=3, case2_b=4\n",
    ")\n",
    "node.c = node.a + node.b\n",
    "\n",
    "# 使用啟動器\n",
    "# case1_c: node.a=node.case1_a, node.b=node.case1_b, 並運行node.c\n",
    "node.case1_c = nn.launcher(node.c, a=node.case1_a, b=node.case1_b)\n",
    "\n",
    "# case2_c: node.a=node.case2_a, node.b=node.case2_b, 並運行node.c\n",
    "node.case2_c = nn.launcher(node.c, a=node.case2_a, b=node.case2_b)\n",
    "\n",
    "# 運行case1_c定義的動作\n",
    "print(f\"case1_c={to.get(node.case1_c)}\")\n",
    "\n",
    "# 運行case2_c定義的動作\n",
    "print(f\"case2_c={to.get(node.case2_c)}\")"
   ]
  },
  {
   "cell_type": "markdown",
   "id": "5fa7c87b-ce04-48dd-be2b-d3e00529c37e",
   "metadata": {},
   "source": [
    "可以發現使用啟動器節點的運行結果是一個字典，並將對應結果的節點名稱當作key值。\n",
    "\n",
    "在上面的例子中我們將不同情況中需要替換掉的值與需要回傳的值，打包成一個啟動節點。當啟動節點被啟動時，啟動節點會替換掉需要替換掉的值，然後回傳需要回傳的值。所有的值都可以是多個，也可以什麼都不做。\n",
    "\n",
    "需要注意的是，當啟動器被執行時，會真的執行替換的動作。這意味著網路本身會被改變，我們可以從下面的例子看到:"
   ]
  },
  {
   "cell_type": "code",
   "execution_count": 14,
   "id": "563bf0b9-16fb-40bd-9d9c-2918462cda60",
   "metadata": {},
   "outputs": [
    {
     "name": "stdout",
     "output_type": "stream",
     "text": [
      "before: a=1\n",
      "after: a=10\n"
     ]
    }
   ],
   "source": [
    "nn, node = to.new_net(a=1)\n",
    "\n",
    "node.l = nn.launcher(a=10)\n",
    "\n",
    "print(f\"before: a={to.get(node.a)}\")\n",
    "\n",
    "to.get(node.l)\n",
    "\n",
    "print(f\"after: a={to.get(node.a)}\")"
   ]
  },
  {
   "cell_type": "markdown",
   "id": "141866ba-1106-4f6e-b3f8-7ce2b0303ced",
   "metadata": {},
   "source": [
    "**啟動器運作邏輯**\n",
    "\n",
    "起動器的運作基於下面步驟:\n",
    "1. 取得替換所需的資料\n",
    "2. 替換指定的節點\n",
    "3. 執行節點並回傳結果\n",
    "\n",
    "下面用個例子來說明:"
   ]
  },
  {
   "cell_type": "code",
   "execution_count": 15,
   "id": "da55daad-8606-429b-8e63-02b6a86f9c71",
   "metadata": {},
   "outputs": [],
   "source": [
    "nn, node = to.new_net(a=1, b=2)\n",
    "node.d = node.c + 4\n",
    "\n",
    "node.l = nn.launcher(\n",
    "    node.a, node.b, node.c, node.d, # 執行節點\n",
    "    a=node.b, b=3, c=node.b         # 替換節點\n",
    ")"
   ]
  },
  {
   "cell_type": "markdown",
   "id": "c0bf34f6-8175-4f1b-b376-e31f21179cab",
   "metadata": {},
   "source": [
    "當起動器被啟動時，會執行下面的步驟:\n",
    "1. 取得node.b的結果: `2`\n",
    "2. 執行: `node.a=2`, `node.b=3`, `node.c=node.b`\n",
    "3. 執行: `net_tool.get(ode.a, node.b, node.c, node.d)`\n",
    "\n",
    "比較需要說明的是替換指定的節點時為什麼*節點a*是替換成2，而*節點c*則是修改連接對象？原因是*節點a*是模型節點，*節點c*是普通節點。而如果替換對象是資料節點則會報錯。"
   ]
  },
  {
   "cell_type": "markdown",
   "id": "39399bcb-57a4-4db5-852f-13cdfca81385",
   "metadata": {},
   "source": [
    "**啟動器時序問題**\n",
    "\n",
    "啟動器本身是沒有運行先後觀念的，若想要執行嚴格的運行節點的順序是做不到的。\n",
    "\n",
    "在下面的例子中我們建立了一個*l3啟動器*，我們希望*l3啟動器*能先運行*l2啟動器*再運行*l1啟動器*，這樣我們得到的運行結果應該會是:\n",
    "    \n",
    "    {'l1': {'b': 110}, 'l2': {'b': 11}}"
   ]
  },
  {
   "cell_type": "code",
   "execution_count": 16,
   "id": "bfa09dab-1820-4234-b7c6-0cc2196306b8",
   "metadata": {},
   "outputs": [],
   "source": [
    "nn, node = to.new_net(a=1)\n",
    "\n",
    "node.b = node.a + 10\n",
    "\n",
    "node.l1 = nn.launcher(node.b, a=100)\n",
    "node.l2 = nn.launcher(node.b)\n",
    "\n",
    "node.l3 = nn.launcher(node.l2, node.l1)"
   ]
  },
  {
   "cell_type": "markdown",
   "id": "30991312-e150-47b6-ab9c-a1e840798807",
   "metadata": {},
   "source": [
    "但是我們實際會得到的結果卻是:"
   ]
  },
  {
   "cell_type": "code",
   "execution_count": 17,
   "id": "0dda87eb-72ed-4380-ae7b-454d31c8126c",
   "metadata": {},
   "outputs": [
    {
     "data": {
      "text/plain": [
       "{'l2': {'b': 11}, 'l1': {'b': 110}}"
      ]
     },
     "execution_count": 17,
     "metadata": {},
     "output_type": "execute_result"
    }
   ],
   "source": [
    "to.get(node.l3)"
   ]
  },
  {
   "cell_type": "markdown",
   "id": "00216d34-3b0a-49a2-b0a0-d253c02b1662",
   "metadata": {},
   "source": [
    "要使得運行順序被嚴格執行，我們需要使用排序器來清楚定義時間的先後順序。"
   ]
  },
  {
   "cell_type": "markdown",
   "id": "838fe461-7378-4a84-94e5-cd018b706eb1",
   "metadata": {},
   "source": [
    "### 排序器節點\n",
    "\n",
    "使用上面的例子，我們可以改寫成:"
   ]
  },
  {
   "cell_type": "code",
   "execution_count": 18,
   "id": "3e64c11f-11f4-48ab-8f5e-15108da3573b",
   "metadata": {},
   "outputs": [],
   "source": [
    "nn, node = to.new_net(a=1)\n",
    "\n",
    "node.b = node.a + 10\n",
    "\n",
    "node.l1 = nn.launcher(node.b, a=100)\n",
    "node.l2 = nn.launcher(node.b)\n",
    "\n",
    "node.o = nn.order(node.l2, node.l1)"
   ]
  },
  {
   "cell_type": "markdown",
   "id": "5556935a-669a-466f-8c3c-c82053f51bb0",
   "metadata": {},
   "source": [
    "運行排序器:"
   ]
  },
  {
   "cell_type": "code",
   "execution_count": 19,
   "id": "2a8cda1b-b240-41c5-bdba-a69579f12856",
   "metadata": {},
   "outputs": [
    {
     "data": {
      "text/plain": [
       "[{'b': 11}, {'b': 110}]"
      ]
     },
     "execution_count": 19,
     "metadata": {},
     "output_type": "execute_result"
    }
   ],
   "source": [
    "to.get(node.o)"
   ]
  },
  {
   "cell_type": "markdown",
   "id": "da256ffb-1747-4065-8350-c6bbd13aa5b3",
   "metadata": {},
   "source": [
    "### 批製作啟動器\n",
    "\n",
    "有時候我們需要使用到批訓練，這需要我們將資料進行打亂排序並切割，並將不同的資料會被分配到不同的啟動器，當不同的啟動器被起動時會導入切割後的資料到網路中。當我們需要手動做到這件事時，會非常麻煩:"
   ]
  },
  {
   "cell_type": "code",
   "execution_count": 20,
   "id": "528c382c-eab2-4f9b-9f42-10ddc9922196",
   "metadata": {},
   "outputs": [],
   "source": [
    "import numpy as np\n",
    "\n",
    "nn, node = to.new_net(\n",
    "    data=np.array([1,2,3,4,5,6]),\n",
    "    weight=np.array([-1,2]),\n",
    "    sum_func=np.sum\n",
    ")\n",
    "\n",
    "# 將切割後的資料加總\n",
    "node.sum = node.sum_func(node.mod_weight*node.batch_data)\n",
    "\n",
    "# 需要手動切割\n",
    "node.data_1 = node.data[:2]\n",
    "node.data_2 = node.data[2:4]\n",
    "node.data_3 = node.data[4:]\n",
    "\n",
    "# 製作啟動器\n",
    "node.sum_1 = nn.launcher(node.sum, batch_data=node.data_1, mod_weight=node.weight)\n",
    "node.sum_2 = nn.launcher(node.sum, batch_data=node.data_2, mod_weight=node.weight)\n",
    "node.sum_3 = nn.launcher(node.sum, batch_data=node.data_3, mod_weight=node.weight)"
   ]
  },
  {
   "cell_type": "markdown",
   "id": "b76b589e-0fab-47d7-a814-d04cb5c9e15f",
   "metadata": {},
   "source": [
    "對於上面的狀況可以使用`batch_launcher`批量產生啟動器節點，參數如下:\n",
    "* nn: 網路來源\n",
    "* get: 需要取得的輸出節點\n",
    "* batch_push: 需要切割的導入節點\n",
    "* static_push: 不需要切割的導入節點，預設為{}\n",
    "* batch_size: 切割的資料大小\n",
    "* shuffle: 是否打亂切割，，預設為True\n",
    "\n",
    "使用上與後面會提到的`push_get`方法類似。"
   ]
  },
  {
   "cell_type": "code",
   "execution_count": 21,
   "id": "4210be83-7d52-48df-94db-bd4eda1599d6",
   "metadata": {},
   "outputs": [],
   "source": [
    "node_list=to.batch_launcher(\n",
    "    nn=nn,\n",
    "    get={node.sum, node.batch_data, node.mod_weight},\n",
    "    batch_push={'batch_data':node.data},\n",
    "    static_push={'mod_weight':node.weight},\n",
    "    batch_size=2,\n",
    "    shuffle=False\n",
    ")"
   ]
  },
  {
   "cell_type": "markdown",
   "id": "8b902cc8-4129-4407-908b-e81296a8b760",
   "metadata": {},
   "source": [
    "回傳的結果是裝有啟動器節點的list。"
   ]
  },
  {
   "cell_type": "code",
   "execution_count": 22,
   "id": "2ccafb4d-d899-4722-8dc4-1d2def13d1fa",
   "metadata": {},
   "outputs": [
    {
     "data": {
      "text/plain": [
       "[<nyto.net.node_interface at 0x7f43e45a8a60>,\n",
       " <nyto.net.node_interface at 0x7f43e45a8e80>,\n",
       " <nyto.net.node_interface at 0x7f43e45a8d30>]"
      ]
     },
     "execution_count": 22,
     "metadata": {},
     "output_type": "execute_result"
    }
   ],
   "source": [
    "node_list"
   ]
  },
  {
   "cell_type": "markdown",
   "id": "f70ec8b9-1e0c-4135-80ae-3396d1aa0a93",
   "metadata": {},
   "source": [
    "啟動第一個啟動器節點看看:"
   ]
  },
  {
   "cell_type": "code",
   "execution_count": 23,
   "id": "19d44cb8-5fce-4759-bf3d-4a999ff27a5d",
   "metadata": {},
   "outputs": [
    {
     "data": {
      "text/plain": [
       "{'mod_weight': array([-1,  2]), 'sum': 3, 'batch_data': array([1, 2])}"
      ]
     },
     "execution_count": 23,
     "metadata": {},
     "output_type": "execute_result"
    }
   ],
   "source": [
    "to.get(node_list[0])"
   ]
  },
  {
   "cell_type": "markdown",
   "id": "1df34b85-6381-4da8-99af-a4351c7396a8",
   "metadata": {},
   "source": [
    "## 網路技巧\n",
    "\n",
    "下面我們來看看網路的使用技巧，與節點的使用技巧不同，網路的本身主要是用來查看資訊的地方。但也有其他的一些用法，下面將一一說明。"
   ]
  },
  {
   "cell_type": "code",
   "execution_count": 24,
   "id": "c3e413b0-922d-456c-be85-6bdced4b8c26",
   "metadata": {},
   "outputs": [],
   "source": [
    "nn, node = to.new_net(\n",
    "    a = 1,                    # 模型節點\n",
    "    b = to.add_data(2), # 資料節點\n",
    ")\n",
    "\n",
    "node.c = node.a + node.b"
   ]
  },
  {
   "cell_type": "markdown",
   "id": "2b253e27-fef6-471e-9365-e433266bf40b",
   "metadata": {},
   "source": [
    "### 查看網路的資訊\n",
    "\n",
    "查看網路的資訊我們使用`info`下的方法成員來查看:"
   ]
  },
  {
   "cell_type": "code",
   "execution_count": 25,
   "id": "002206c7-cb3e-4463-82d1-d6a627ee70fb",
   "metadata": {},
   "outputs": [
    {
     "data": {
      "text/plain": [
       "{'a', 'b'}"
      ]
     },
     "execution_count": 25,
     "metadata": {},
     "output_type": "execute_result"
    }
   ],
   "source": [
    "nn.info.unit # 查看單元節點"
   ]
  },
  {
   "cell_type": "code",
   "execution_count": 26,
   "id": "0ec9fad8-1dbb-475e-a1b8-4e072c30090e",
   "metadata": {},
   "outputs": [
    {
     "data": {
      "text/plain": [
       "{'a'}"
      ]
     },
     "execution_count": 26,
     "metadata": {},
     "output_type": "execute_result"
    }
   ],
   "source": [
    "nn.info.mod # 查看模型節點"
   ]
  },
  {
   "cell_type": "code",
   "execution_count": 27,
   "id": "228a7354-d02e-4181-9e0c-36e627d7823e",
   "metadata": {},
   "outputs": [
    {
     "data": {
      "text/plain": [
       "{'b'}"
      ]
     },
     "execution_count": 27,
     "metadata": {},
     "output_type": "execute_result"
    }
   ],
   "source": [
    "nn.info.data # 查看資料節點"
   ]
  },
  {
   "cell_type": "code",
   "execution_count": 28,
   "id": "832aad33-dbf5-4143-8777-8f96559c95f4",
   "metadata": {},
   "outputs": [
    {
     "data": {
      "text/plain": [
       "{'a', 'b', 'c'}"
      ]
     },
     "execution_count": 28,
     "metadata": {},
     "output_type": "execute_result"
    }
   ],
   "source": [
    "nn.info.node # 查看節點"
   ]
  },
  {
   "cell_type": "code",
   "execution_count": 29,
   "id": "96385f72-0d72-47aa-95d8-092bb5333781",
   "metadata": {},
   "outputs": [
    {
     "data": {
      "text/plain": [
       "True"
      ]
     },
     "execution_count": 29,
     "metadata": {},
     "output_type": "execute_result"
    }
   ],
   "source": [
    "nn.info.is_unit('a') # 判斷節點是否是單元節點"
   ]
  },
  {
   "cell_type": "code",
   "execution_count": 30,
   "id": "c21105f4-c74b-4c9c-bf41-870b1224322d",
   "metadata": {},
   "outputs": [
    {
     "data": {
      "text/plain": [
       "True"
      ]
     },
     "execution_count": 30,
     "metadata": {},
     "output_type": "execute_result"
    }
   ],
   "source": [
    "nn.info.is_mod('a') # 判斷節點是否是模型節點"
   ]
  },
  {
   "cell_type": "code",
   "execution_count": 31,
   "id": "e6adeadf-3c98-4a05-9cb1-f52c962c1c56",
   "metadata": {},
   "outputs": [
    {
     "data": {
      "text/plain": [
       "True"
      ]
     },
     "execution_count": 31,
     "metadata": {},
     "output_type": "execute_result"
    }
   ],
   "source": [
    "nn.info.is_data('b') # 判斷節點是否是資料節點"
   ]
  },
  {
   "cell_type": "code",
   "execution_count": 32,
   "id": "a3ce6251-036d-4c3c-b25f-d972b493447d",
   "metadata": {},
   "outputs": [
    {
     "data": {
      "text/plain": [
       "True"
      ]
     },
     "execution_count": 32,
     "metadata": {},
     "output_type": "execute_result"
    }
   ],
   "source": [
    "nn.info.is_connect_node('c') # 判斷節點是否是連接節點"
   ]
  },
  {
   "cell_type": "markdown",
   "id": "f96e61f2-4750-418d-a46d-a7d3ad8d7a2e",
   "metadata": {},
   "source": [
    "### push_get\n",
    "\n",
    "有的時候我們想要使用到類似啟動器的功能，但是為了這樣的功能而特別去建立一個啟動器節點又沒有必要時，我們可以使用`net.push_get`方法:"
   ]
  },
  {
   "cell_type": "code",
   "execution_count": 33,
   "id": "7c300cb9-4bef-43fb-9a23-9aa630e03325",
   "metadata": {},
   "outputs": [
    {
     "data": {
      "text/plain": [
       "{'x2': 2, 'y': 3, 'x1': 1}"
      ]
     },
     "execution_count": 33,
     "metadata": {},
     "output_type": "execute_result"
    }
   ],
   "source": [
    "nn, node = to.new_net(a=1)\n",
    "node.y = node.x1 + node.x2\n",
    "\n",
    "nn.push_get({'y', 'x1', 'x2'}, x1=node.a, x2=2)"
   ]
  },
  {
   "cell_type": "markdown",
   "id": "d5f5d18f-eaaa-428b-b9dc-7faef257a6dc",
   "metadata": {},
   "source": [
    "唯一與啟動器不同的地方是輸入的參數由節點界面改成節點名稱的集合。"
   ]
  },
  {
   "cell_type": "markdown",
   "id": "3b44e2e7-7d3d-4ab3-a0b2-926580863d32",
   "metadata": {},
   "source": [
    "### 網路清理\n",
    "\n",
    "當我們長時間使用同一個網路，並在其身上不斷修改時，難免會產生一些已經失去作用的節點，如下圖:\n",
    "\n",
    "![ch3-1](https://imgur.com/b2J9JqM.png)\n",
    "\n",
    "我們原先可能是將`x1`和`x3`的相加的值存入`y1`，但後來改成將`x1`和`x2`相乘的值存入`y1`，這樣紀錄相加訊息的節點`0`就失去作用了，但此時該節點仍然存在於網路中，需要手動刪除。或是原本有作用的`y2`和`1`節點後來漸漸用不到了，所以也需要刪除。這時候就可以使用`free_unused_nodes()`函數來進行刪除處理了。\n",
    "\n",
    "只需要輸入你會用到的幾個節點名稱所組成的集合(set)，neto就會自動整理出與其相關的節點，和與其無關的節點並刪除。下面是使用範例:"
   ]
  },
  {
   "cell_type": "code",
   "execution_count": 34,
   "id": "a97a346a-1233-489d-9717-fe16f36ef8bf",
   "metadata": {},
   "outputs": [],
   "source": [
    "# 原來的配置\n",
    "nn, node = to.new_net(x1=1, x2=2, x3=3)\n",
    "node.y1 = node.x1 + node.x3\n",
    "node.y2 = node.x2 * node.x3\n",
    "\n",
    "# 新加入的配置\n",
    "node.y1 = node.x1 * node.x2"
   ]
  },
  {
   "cell_type": "code",
   "execution_count": 35,
   "id": "658fd462-b744-4a2e-87cc-dc82cb91125e",
   "metadata": {},
   "outputs": [
    {
     "data": {
      "text/plain": [
       "{'x1', 'x2', 'x3', 'y1', 'y2'}"
      ]
     },
     "execution_count": 35,
     "metadata": {},
     "output_type": "execute_result"
    }
   ],
   "source": [
    "nn.info.node # 清理前有哪些節點"
   ]
  },
  {
   "cell_type": "code",
   "execution_count": 36,
   "id": "4b7dcd2d-56a1-43cf-b116-23ec11051967",
   "metadata": {},
   "outputs": [
    {
     "data": {
      "text/plain": [
       "{0, 1, 'y2'}"
      ]
     },
     "execution_count": 36,
     "metadata": {},
     "output_type": "execute_result"
    }
   ],
   "source": [
    "# 清理掉與 y1節點無關的節點(但不包括模型節點:x3)\n",
    "to.free_unused_nodes(nn, {'y1'})"
   ]
  },
  {
   "cell_type": "code",
   "execution_count": 37,
   "id": "d73bf453-4182-4d49-8369-3b25d19c21c9",
   "metadata": {},
   "outputs": [
    {
     "data": {
      "text/plain": [
       "{'x1', 'x2', 'x3', 'y1'}"
      ]
     },
     "execution_count": 37,
     "metadata": {},
     "output_type": "execute_result"
    }
   ],
   "source": [
    "nn.info.node # 清理後有哪些節點"
   ]
  },
  {
   "cell_type": "markdown",
   "id": "d441a7bc-3b9a-46db-888b-47f7bdfbc20f",
   "metadata": {},
   "source": [
    "你可以看到`free_unused_nodes`會回傳刪除的節點名稱。\n",
    "\n",
    "需要注意的是，為了安全考慮，**單元節點**並不會刪除。如果需要移出網路中的單元節點與其存放的單元，則需要使用`unit.remove`。"
   ]
  },
  {
   "cell_type": "code",
   "execution_count": 38,
   "id": "35212cf7-eb45-4d68-babf-d1f59772a7a9",
   "metadata": {},
   "outputs": [],
   "source": [
    "nn.unit.remove('x3')"
   ]
  },
  {
   "cell_type": "code",
   "execution_count": 39,
   "id": "30239c74-7944-479f-9526-cbe33c91f3bc",
   "metadata": {},
   "outputs": [
    {
     "data": {
      "text/plain": [
       "{'x1', 'x2', 'y1'}"
      ]
     },
     "execution_count": 39,
     "metadata": {},
     "output_type": "execute_result"
    }
   ],
   "source": [
    "nn.info.node # 清理後有哪些節點"
   ]
  },
  {
   "cell_type": "markdown",
   "id": "1735753c-e6a6-41df-8699-7467e92cb596",
   "metadata": {},
   "source": [
    "## 補充\n",
    "\n",
    "相信通過前面的介紹，對nyto的了解又更多了。其實nyto不是一個用於優化神經網路模型的工具，對nyto來說任何的運算系統不管是線性還是非線性，可微不可微，神經網路也好，CNN也好，都只不過是一種運算系統。\n",
    "\n",
    "簡單來說，nyto是用於優化運算系統的工具。只要你能用節點將運算系統組織起來，那麼就可以使用nyto優化。\n",
    "\n",
    "下面的例子中展示了使用節點搭建了一個計算費氏數列的運算系統，有興趣的話可以實作看看，相信可以對節點的啟動順序，節點被呼叫的時機與次數，會有更深的體悟。"
   ]
  },
  {
   "cell_type": "code",
   "execution_count": 40,
   "id": "c9756ef7-cc35-4be6-93a1-f126c4f35a76",
   "metadata": {},
   "outputs": [],
   "source": [
    "nn, node = to.new_net(x1=1, x2=1)\n",
    "\n",
    "node.fib = node.n1 + node.n2\n",
    "\n",
    "node.new_x2 = nn.launcher(node.fib, n1=node.x1, n2=node.x2)['fib']\n",
    "node.update = nn.launcher(x1=node.x2, x2=node.new_x2)"
   ]
  },
  {
   "cell_type": "code",
   "execution_count": 41,
   "id": "f74ab192-3a3f-46cb-99fd-ecc0a9151027",
   "metadata": {
    "tags": []
   },
   "outputs": [
    {
     "name": "stdout",
     "output_type": "stream",
     "text": [
      "n=1 fn=1\n",
      "n=2 fn=1\n",
      "n=3 fn=2\n",
      "n=4 fn=3\n",
      "n=5 fn=5\n",
      "n=6 fn=8\n",
      "n=7 fn=13\n",
      "n=8 fn=21\n",
      "n=9 fn=34\n"
     ]
    }
   ],
   "source": [
    "for i in range(1, 10):\n",
    "    x1, x2 = to.get(node.x1, node.x2)\n",
    "    print(f\"n={i} fn={x1}\")\n",
    "    \n",
    "    to.get(node.update)"
   ]
  },
  {
   "cell_type": "markdown",
   "id": "c17b009c-ff5c-48fa-956c-a25291e050e0",
   "metadata": {},
   "source": [
    "***\n",
    "*END*"
   ]
  }
 ],
 "metadata": {
  "kernelspec": {
   "display_name": "Python 3 (ipykernel)",
   "language": "python",
   "name": "python3"
  },
  "language_info": {
   "codemirror_mode": {
    "name": "ipython",
    "version": 3
   },
   "file_extension": ".py",
   "mimetype": "text/x-python",
   "name": "python",
   "nbconvert_exporter": "python",
   "pygments_lexer": "ipython3",
   "version": "3.9.12"
  }
 },
 "nbformat": 4,
 "nbformat_minor": 5
}
